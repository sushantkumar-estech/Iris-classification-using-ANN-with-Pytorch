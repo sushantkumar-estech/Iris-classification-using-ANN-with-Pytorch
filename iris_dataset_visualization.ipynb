{
  "nbformat": 4,
  "nbformat_minor": 0,
  "metadata": {
    "kernelspec": {
      "display_name": "Python 3",
      "language": "python",
      "name": "python3"
    },
    "language_info": {
      "codemirror_mode": {
        "name": "ipython",
        "version": 3
      },
      "file_extension": ".py",
      "mimetype": "text/x-python",
      "name": "python",
      "nbconvert_exporter": "python",
      "pygments_lexer": "ipython3",
      "version": "3.7.3"
    },
    "colab": {
      "name": "02-Dataset_Pytorch_sushant_iris.ipynb",
      "provenance": [],
      "include_colab_link": true
    }
  },
  "cells": [
    {
      "cell_type": "markdown",
      "metadata": {
        "id": "view-in-github",
        "colab_type": "text"
      },
      "source": [
        "<a href=\"https://colab.research.google.com/github/sushantkumar-estech/Iris-classification-using-ANN-with-Pytorch/blob/master/iris_dataset_visualization.ipynb\" target=\"_parent\"><img src=\"https://colab.research.google.com/assets/colab-badge.svg\" alt=\"Open In Colab\"/></a>"
      ]
    },
    {
      "cell_type": "code",
      "metadata": {
        "id": "_fTOz84pB2Cu",
        "colab_type": "code",
        "colab": {}
      },
      "source": [
        "import torch\n",
        "import numpy as np\n",
        "import pandas as pd\n",
        "import matplotlib.pyplot as plt\n",
        "%matplotlib inline"
      ],
      "execution_count": 7,
      "outputs": []
    },
    {
      "cell_type": "code",
      "metadata": {
        "id": "ewWTLF1SB2Cy",
        "colab_type": "code",
        "colab": {
          "base_uri": "https://localhost:8080/",
          "height": 35
        },
        "outputId": "eef1f507-a5f4-4826-c79d-330d7f55a2f5"
      },
      "source": [
        "pwd"
      ],
      "execution_count": 8,
      "outputs": [
        {
          "output_type": "execute_result",
          "data": {
            "application/vnd.google.colaboratory.intrinsic+json": {
              "type": "string"
            },
            "text/plain": [
              "'/content'"
            ]
          },
          "metadata": {
            "tags": []
          },
          "execution_count": 8
        }
      ]
    },
    {
      "cell_type": "code",
      "metadata": {
        "id": "PBxsAzCjRCsN",
        "colab_type": "code",
        "colab": {
          "base_uri": "https://localhost:8080/",
          "height": 34
        },
        "outputId": "27ad542b-ec7f-4cdf-8e16-e89638ec7346"
      },
      "source": [
        "print(torch.__version__)"
      ],
      "execution_count": 9,
      "outputs": [
        {
          "output_type": "stream",
          "text": [
            "1.6.0+cu101\n"
          ],
          "name": "stdout"
        }
      ]
    },
    {
      "cell_type": "code",
      "metadata": {
        "id": "M6-PMK_8C677",
        "colab_type": "code",
        "colab": {
          "base_uri": "https://localhost:8080/",
          "height": 34
        },
        "outputId": "b035de9a-6247-41f7-eaa4-06f990da1f38"
      },
      "source": [
        "# Mounting the drive with colab notebook\n",
        "from google.colab import drive\n",
        "drive.mount('/content/drive')"
      ],
      "execution_count": 10,
      "outputs": [
        {
          "output_type": "stream",
          "text": [
            "Drive already mounted at /content/drive; to attempt to forcibly remount, call drive.mount(\"/content/drive\", force_remount=True).\n"
          ],
          "name": "stdout"
        }
      ]
    },
    {
      "cell_type": "code",
      "metadata": {
        "id": "EKBc83zXC7Jv",
        "colab_type": "code",
        "colab": {}
      },
      "source": [
        "df = pd.read_csv('/content/drive/My Drive/ML_Dataset/Pytorch_dataset/iris.csv')"
      ],
      "execution_count": 11,
      "outputs": []
    },
    {
      "cell_type": "code",
      "metadata": {
        "id": "XHwq-xZkB2C3",
        "colab_type": "code",
        "colab": {}
      },
      "source": [
        "# df = pd.read_csv('D:\\Machine Learning_Udemy\\9. PyTorch for Deep Learning with Python Bootcamp\\Data\\iris.csv')"
      ],
      "execution_count": 12,
      "outputs": []
    },
    {
      "cell_type": "code",
      "metadata": {
        "id": "lDN0B2CnB2C6",
        "colab_type": "code",
        "colab": {
          "base_uri": "https://localhost:8080/",
          "height": 204
        },
        "outputId": "dc7d5a1d-770e-42f2-a574-7190bac69d3f"
      },
      "source": [
        "df.head()   # Data features of an iris flowers along with target"
      ],
      "execution_count": 13,
      "outputs": [
        {
          "output_type": "execute_result",
          "data": {
            "text/html": [
              "<div>\n",
              "<style scoped>\n",
              "    .dataframe tbody tr th:only-of-type {\n",
              "        vertical-align: middle;\n",
              "    }\n",
              "\n",
              "    .dataframe tbody tr th {\n",
              "        vertical-align: top;\n",
              "    }\n",
              "\n",
              "    .dataframe thead th {\n",
              "        text-align: right;\n",
              "    }\n",
              "</style>\n",
              "<table border=\"1\" class=\"dataframe\">\n",
              "  <thead>\n",
              "    <tr style=\"text-align: right;\">\n",
              "      <th></th>\n",
              "      <th>sepal length (cm)</th>\n",
              "      <th>sepal width (cm)</th>\n",
              "      <th>petal length (cm)</th>\n",
              "      <th>petal width (cm)</th>\n",
              "      <th>target</th>\n",
              "    </tr>\n",
              "  </thead>\n",
              "  <tbody>\n",
              "    <tr>\n",
              "      <th>0</th>\n",
              "      <td>5.1</td>\n",
              "      <td>3.5</td>\n",
              "      <td>1.4</td>\n",
              "      <td>0.2</td>\n",
              "      <td>0.0</td>\n",
              "    </tr>\n",
              "    <tr>\n",
              "      <th>1</th>\n",
              "      <td>4.9</td>\n",
              "      <td>3.0</td>\n",
              "      <td>1.4</td>\n",
              "      <td>0.2</td>\n",
              "      <td>0.0</td>\n",
              "    </tr>\n",
              "    <tr>\n",
              "      <th>2</th>\n",
              "      <td>4.7</td>\n",
              "      <td>3.2</td>\n",
              "      <td>1.3</td>\n",
              "      <td>0.2</td>\n",
              "      <td>0.0</td>\n",
              "    </tr>\n",
              "    <tr>\n",
              "      <th>3</th>\n",
              "      <td>4.6</td>\n",
              "      <td>3.1</td>\n",
              "      <td>1.5</td>\n",
              "      <td>0.2</td>\n",
              "      <td>0.0</td>\n",
              "    </tr>\n",
              "    <tr>\n",
              "      <th>4</th>\n",
              "      <td>5.0</td>\n",
              "      <td>3.6</td>\n",
              "      <td>1.4</td>\n",
              "      <td>0.2</td>\n",
              "      <td>0.0</td>\n",
              "    </tr>\n",
              "  </tbody>\n",
              "</table>\n",
              "</div>"
            ],
            "text/plain": [
              "   sepal length (cm)  sepal width (cm)  ...  petal width (cm)  target\n",
              "0                5.1               3.5  ...               0.2     0.0\n",
              "1                4.9               3.0  ...               0.2     0.0\n",
              "2                4.7               3.2  ...               0.2     0.0\n",
              "3                4.6               3.1  ...               0.2     0.0\n",
              "4                5.0               3.6  ...               0.2     0.0\n",
              "\n",
              "[5 rows x 5 columns]"
            ]
          },
          "metadata": {
            "tags": []
          },
          "execution_count": 13
        }
      ]
    },
    {
      "cell_type": "code",
      "metadata": {
        "id": "p2TkYGixB2C9",
        "colab_type": "code",
        "colab": {
          "base_uri": "https://localhost:8080/",
          "height": 34
        },
        "outputId": "0aa0ce75-7a76-4bbd-f849-b1d1bdf06ba0"
      },
      "source": [
        "df.shape"
      ],
      "execution_count": 14,
      "outputs": [
        {
          "output_type": "execute_result",
          "data": {
            "text/plain": [
              "(150, 5)"
            ]
          },
          "metadata": {
            "tags": []
          },
          "execution_count": 14
        }
      ]
    },
    {
      "cell_type": "code",
      "metadata": {
        "id": "Pg00W8FTB2DA",
        "colab_type": "code",
        "colab": {
          "base_uri": "https://localhost:8080/",
          "height": 526
        },
        "outputId": "88a14102-affc-4da1-d32e-973486ddfdc5"
      },
      "source": [
        "# PLOT the DATA\n",
        "fig, axes = plt.subplots(nrows=2, ncols=2, figsize=(10,7))\n",
        "fig.tight_layout()\n",
        "\n",
        "plots = [(0,1),(2,3),(0,2),(1,3)]\n",
        "colors = ['b', 'r', 'g']\n",
        "labels = ['Iris setosa','Iris virginica','Iris versicolor']\n",
        "\n",
        "for i, ax in enumerate(axes.flat):\n",
        "    for j in range(3):\n",
        "        x = df.columns[plots[i][0]]\n",
        "        y = df.columns[plots[i][1]]\n",
        "        ax.scatter(df[df['target']==j][x], df[df['target']==j][y], color=colors[j])\n",
        "        ax.set(xlabel=x, ylabel=y)\n",
        "\n",
        "fig.legend(labels=labels, loc=3, bbox_to_anchor=(1.0,0.85))\n",
        "plt.show()"
      ],
      "execution_count": 15,
      "outputs": [
        {
          "output_type": "display_data",
          "data": {
            "image/png": "[encoded data removed]",
            "text/plain": [
              "<Figure size 720x504 with 4 Axes>"
            ]
          },
          "metadata": {
            "tags": [],
            "needs_background": "light"
          }
        }
      ]
    },
    {
      "cell_type": "code",
      "metadata": {
        "id": "8xJiMeoyB2DD",
        "colab_type": "code",
        "colab": {}
      },
      "source": [
        "#Method1 : for splitting dataset into Train and Test Dataset\n",
        "from sklearn.model_selection import train_test_split"
      ],
      "execution_count": 16,
      "outputs": []
    },
    {
      "cell_type": "code",
      "metadata": {
        "id": "uvgHKYRkB2DG",
        "colab_type": "code",
        "colab": {}
      },
      "source": [
        "features = df.drop('target', axis = 1).values\n",
        "label = df['target'].values"
      ],
      "execution_count": 17,
      "outputs": []
    },
    {
      "cell_type": "code",
      "metadata": {
        "id": "tAeCpWG9B2DN",
        "colab_type": "code",
        "colab": {}
      },
      "source": [
        "X_train, X_test, y_train, y_test = train_test_split(features, label, test_size=0.2, random_state=33)"
      ],
      "execution_count": 18,
      "outputs": []
    },
    {
      "cell_type": "code",
      "metadata": {
        "id": "3CFxhYrVB2DP",
        "colab_type": "code",
        "colab": {
          "base_uri": "https://localhost:8080/",
          "height": 34
        },
        "outputId": "4779b085-b2e6-4d9f-ab47-4720ee7c4d5c"
      },
      "source": [
        "X_train.size"
      ],
      "execution_count": 19,
      "outputs": [
        {
          "output_type": "execute_result",
          "data": {
            "text/plain": [
              "480"
            ]
          },
          "metadata": {
            "tags": []
          },
          "execution_count": 19
        }
      ]
    },
    {
      "cell_type": "code",
      "metadata": {
        "id": "Kra0iOpoB2DS",
        "colab_type": "code",
        "colab": {}
      },
      "source": [
        "# Converting them to float Tensor\n",
        "X_train = torch.FloatTensor(X_train)\n",
        "X_test = torch.FloatTensor(X_test)"
      ],
      "execution_count": 20,
      "outputs": []
    },
    {
      "cell_type": "code",
      "metadata": {
        "id": "SCi1T_UUB2DU",
        "colab_type": "code",
        "colab": {}
      },
      "source": [
        "y_train = torch.LongTensor(y_train).reshape(-1,1)\n",
        "y_test = torch.LongTensor(y_test).reshape(-1,1)"
      ],
      "execution_count": 21,
      "outputs": []
    },
    {
      "cell_type": "code",
      "metadata": {
        "id": "wewy4IPmB2DX",
        "colab_type": "code",
        "colab": {}
      },
      "source": [
        "#Method 2: using pytorch utils for splitting training and tesrting dataset\n",
        "from torch.utils.data import TensorDataset , DataLoader"
      ],
      "execution_count": 22,
      "outputs": []
    },
    {
      "cell_type": "code",
      "metadata": {
        "id": "9gVs0BDuB2DZ",
        "colab_type": "code",
        "colab": {}
      },
      "source": [
        "data = df.drop('target', axis=1).values\n",
        "labels = df['target'].values"
      ],
      "execution_count": 23,
      "outputs": []
    },
    {
      "cell_type": "code",
      "metadata": {
        "id": "hRZtKguXB2Dc",
        "colab_type": "code",
        "colab": {}
      },
      "source": [
        "iris = TensorDataset(torch.FloatTensor(data), torch.LongTensor(labels))"
      ],
      "execution_count": 24,
      "outputs": []
    },
    {
      "cell_type": "code",
      "metadata": {
        "id": "9hEKO9uLB2Df",
        "colab_type": "code",
        "colab": {
          "base_uri": "https://localhost:8080/",
          "height": 34
        },
        "outputId": "6dc04a54-30fc-4126-c81d-a6b7afbad434"
      },
      "source": [
        "type(iris)"
      ],
      "execution_count": 25,
      "outputs": [
        {
          "output_type": "execute_result",
          "data": {
            "text/plain": [
              "torch.utils.data.dataset.TensorDataset"
            ]
          },
          "metadata": {
            "tags": []
          },
          "execution_count": 25
        }
      ]
    },
    {
      "cell_type": "code",
      "metadata": {
        "id": "hLwo0CQIB2Dh",
        "colab_type": "code",
        "colab": {
          "base_uri": "https://localhost:8080/",
          "height": 34
        },
        "outputId": "a980953e-8086-4bbc-843e-c8afc8b339fa"
      },
      "source": [
        "len(iris)"
      ],
      "execution_count": 26,
      "outputs": [
        {
          "output_type": "execute_result",
          "data": {
            "text/plain": [
              "150"
            ]
          },
          "metadata": {
            "tags": []
          },
          "execution_count": 26
        }
      ]
    },
    {
      "cell_type": "code",
      "metadata": {
        "id": "dWRiLtPlB2Dk",
        "colab_type": "code",
        "colab": {
          "base_uri": "https://localhost:8080/",
          "height": 1000
        },
        "outputId": "2dcf84f9-59f2-4a54-f9bd-8d3acc017ab1"
      },
      "source": [
        "for i in iris:\n",
        "    print(i)"
      ],
      "execution_count": 27,
      "outputs": [
        {
          "output_type": "stream",
          "text": [
            "(tensor([5.1000, 3.5000, 1.4000, 0.2000]), tensor(0))\n",
            "(tensor([4.9000, 3.0000, 1.4000, 0.2000]), tensor(0))\n",
            "(tensor([4.7000, 3.2000, 1.3000, 0.2000]), tensor(0))\n",
            "(tensor([4.6000, 3.1000, 1.5000, 0.2000]), tensor(0))\n",
            "(tensor([5.0000, 3.6000, 1.4000, 0.2000]), tensor(0))\n",
            "(tensor([5.4000, 3.9000, 1.7000, 0.4000]), tensor(0))\n",
            "(tensor([4.6000, 3.4000, 1.4000, 0.3000]), tensor(0))\n",
            "(tensor([5.0000, 3.4000, 1.5000, 0.2000]), tensor(0))\n",
            "(tensor([4.4000, 2.9000, 1.4000, 0.2000]), tensor(0))\n",
            "(tensor([4.9000, 3.1000, 1.5000, 0.1000]), tensor(0))\n",
            "(tensor([5.4000, 3.7000, 1.5000, 0.2000]), tensor(0))\n",
            "(tensor([4.8000, 3.4000, 1.6000, 0.2000]), tensor(0))\n",
            "(tensor([4.8000, 3.0000, 1.4000, 0.1000]), tensor(0))\n",
            "(tensor([4.3000, 3.0000, 1.1000, 0.1000]), tensor(0))\n",
            "(tensor([5.8000, 4.0000, 1.2000, 0.2000]), tensor(0))\n",
            "(tensor([5.7000, 4.4000, 1.5000, 0.4000]), tensor(0))\n",
            "(tensor([5.4000, 3.9000, 1.3000, 0.4000]), tensor(0))\n",
            "(tensor([5.1000, 3.5000, 1.4000, 0.3000]), tensor(0))\n",
            "(tensor([5.7000, 3.8000, 1.7000, 0.3000]), tensor(0))\n",
            "(tensor([5.1000, 3.8000, 1.5000, 0.3000]), tensor(0))\n",
            "(tensor([5.4000, 3.4000, 1.7000, 0.2000]), tensor(0))\n",
            "(tensor([5.1000, 3.7000, 1.5000, 0.4000]), tensor(0))\n",
            "(tensor([4.6000, 3.6000, 1.0000, 0.2000]), tensor(0))\n",
            "(tensor([5.1000, 3.3000, 1.7000, 0.5000]), tensor(0))\n",
            "(tensor([4.8000, 3.4000, 1.9000, 0.2000]), tensor(0))\n",
            "(tensor([5.0000, 3.0000, 1.6000, 0.2000]), tensor(0))\n",
            "(tensor([5.0000, 3.4000, 1.6000, 0.4000]), tensor(0))\n",
            "(tensor([5.2000, 3.5000, 1.5000, 0.2000]), tensor(0))\n",
            "(tensor([5.2000, 3.4000, 1.4000, 0.2000]), tensor(0))\n",
            "(tensor([4.7000, 3.2000, 1.6000, 0.2000]), tensor(0))\n",
            "(tensor([4.8000, 3.1000, 1.6000, 0.2000]), tensor(0))\n",
            "(tensor([5.4000, 3.4000, 1.5000, 0.4000]), tensor(0))\n",
            "(tensor([5.2000, 4.1000, 1.5000, 0.1000]), tensor(0))\n",
            "(tensor([5.5000, 4.2000, 1.4000, 0.2000]), tensor(0))\n",
            "(tensor([4.9000, 3.1000, 1.5000, 0.1000]), tensor(0))\n",
            "(tensor([5.0000, 3.2000, 1.2000, 0.2000]), tensor(0))\n",
            "(tensor([5.5000, 3.5000, 1.3000, 0.2000]), tensor(0))\n",
            "(tensor([4.9000, 3.1000, 1.5000, 0.1000]), tensor(0))\n",
            "(tensor([4.4000, 3.0000, 1.3000, 0.2000]), tensor(0))\n",
            "(tensor([5.1000, 3.4000, 1.5000, 0.2000]), tensor(0))\n",
            "(tensor([5.0000, 3.5000, 1.3000, 0.3000]), tensor(0))\n",
            "(tensor([4.5000, 2.3000, 1.3000, 0.3000]), tensor(0))\n",
            "(tensor([4.4000, 3.2000, 1.3000, 0.2000]), tensor(0))\n",
            "(tensor([5.0000, 3.5000, 1.6000, 0.6000]), tensor(0))\n",
            "(tensor([5.1000, 3.8000, 1.9000, 0.4000]), tensor(0))\n",
            "(tensor([4.8000, 3.0000, 1.4000, 0.3000]), tensor(0))\n",
            "(tensor([5.1000, 3.8000, 1.6000, 0.2000]), tensor(0))\n",
            "(tensor([4.6000, 3.2000, 1.4000, 0.2000]), tensor(0))\n",
            "(tensor([5.3000, 3.7000, 1.5000, 0.2000]), tensor(0))\n",
            "(tensor([5.0000, 3.3000, 1.4000, 0.2000]), tensor(0))\n",
            "(tensor([7.0000, 3.2000, 4.7000, 1.4000]), tensor(1))\n",
            "(tensor([6.4000, 3.2000, 4.5000, 1.5000]), tensor(1))\n",
            "(tensor([6.9000, 3.1000, 4.9000, 1.5000]), tensor(1))\n",
            "(tensor([5.5000, 2.3000, 4.0000, 1.3000]), tensor(1))\n",
            "(tensor([6.5000, 2.8000, 4.6000, 1.5000]), tensor(1))\n",
            "(tensor([5.7000, 2.8000, 4.5000, 1.3000]), tensor(1))\n",
            "(tensor([6.3000, 3.3000, 4.7000, 1.6000]), tensor(1))\n",
            "(tensor([4.9000, 2.4000, 3.3000, 1.0000]), tensor(1))\n",
            "(tensor([6.6000, 2.9000, 4.6000, 1.3000]), tensor(1))\n",
            "(tensor([5.2000, 2.7000, 3.9000, 1.4000]), tensor(1))\n",
            "(tensor([5.0000, 2.0000, 3.5000, 1.0000]), tensor(1))\n",
            "(tensor([5.9000, 3.0000, 4.2000, 1.5000]), tensor(1))\n",
            "(tensor([6.0000, 2.2000, 4.0000, 1.0000]), tensor(1))\n",
            "(tensor([6.1000, 2.9000, 4.7000, 1.4000]), tensor(1))\n",
            "(tensor([5.6000, 2.9000, 3.6000, 1.3000]), tensor(1))\n",
            "(tensor([6.7000, 3.1000, 4.4000, 1.4000]), tensor(1))\n",
            "(tensor([5.6000, 3.0000, 4.5000, 1.5000]), tensor(1))\n",
            "(tensor([5.8000, 2.7000, 4.1000, 1.0000]), tensor(1))\n",
            "(tensor([6.2000, 2.2000, 4.5000, 1.5000]), tensor(1))\n",
            "(tensor([5.6000, 2.5000, 3.9000, 1.1000]), tensor(1))\n",
            "(tensor([5.9000, 3.2000, 4.8000, 1.8000]), tensor(1))\n",
            "(tensor([6.1000, 2.8000, 4.0000, 1.3000]), tensor(1))\n",
            "(tensor([6.3000, 2.5000, 4.9000, 1.5000]), tensor(1))\n",
            "(tensor([6.1000, 2.8000, 4.7000, 1.2000]), tensor(1))\n",
            "(tensor([6.4000, 2.9000, 4.3000, 1.3000]), tensor(1))\n",
            "(tensor([6.6000, 3.0000, 4.4000, 1.4000]), tensor(1))\n",
            "(tensor([6.8000, 2.8000, 4.8000, 1.4000]), tensor(1))\n",
            "(tensor([6.7000, 3.0000, 5.0000, 1.7000]), tensor(1))\n",
            "(tensor([6.0000, 2.9000, 4.5000, 1.5000]), tensor(1))\n",
            "(tensor([5.7000, 2.6000, 3.5000, 1.0000]), tensor(1))\n",
            "(tensor([5.5000, 2.4000, 3.8000, 1.1000]), tensor(1))\n",
            "(tensor([5.5000, 2.4000, 3.7000, 1.0000]), tensor(1))\n",
            "(tensor([5.8000, 2.7000, 3.9000, 1.2000]), tensor(1))\n",
            "(tensor([6.0000, 2.7000, 5.1000, 1.6000]), tensor(1))\n",
            "(tensor([5.4000, 3.0000, 4.5000, 1.5000]), tensor(1))\n",
            "(tensor([6.0000, 3.4000, 4.5000, 1.6000]), tensor(1))\n",
            "(tensor([6.7000, 3.1000, 4.7000, 1.5000]), tensor(1))\n",
            "(tensor([6.3000, 2.3000, 4.4000, 1.3000]), tensor(1))\n",
            "(tensor([5.6000, 3.0000, 4.1000, 1.3000]), tensor(1))\n",
            "(tensor([5.5000, 2.5000, 4.0000, 1.3000]), tensor(1))\n",
            "(tensor([5.5000, 2.6000, 4.4000, 1.2000]), tensor(1))\n",
            "(tensor([6.1000, 3.0000, 4.6000, 1.4000]), tensor(1))\n",
            "(tensor([5.8000, 2.6000, 4.0000, 1.2000]), tensor(1))\n",
            "(tensor([5.0000, 2.3000, 3.3000, 1.0000]), tensor(1))\n",
            "(tensor([5.6000, 2.7000, 4.2000, 1.3000]), tensor(1))\n",
            "(tensor([5.7000, 3.0000, 4.2000, 1.2000]), tensor(1))\n",
            "(tensor([5.7000, 2.9000, 4.2000, 1.3000]), tensor(1))\n",
            "(tensor([6.2000, 2.9000, 4.3000, 1.3000]), tensor(1))\n",
            "(tensor([5.1000, 2.5000, 3.0000, 1.1000]), tensor(1))\n",
            "(tensor([5.7000, 2.8000, 4.1000, 1.3000]), tensor(1))\n",
            "(tensor([6.3000, 3.3000, 6.0000, 2.5000]), tensor(2))\n",
            "(tensor([5.8000, 2.7000, 5.1000, 1.9000]), tensor(2))\n",
            "(tensor([7.1000, 3.0000, 5.9000, 2.1000]), tensor(2))\n",
            "(tensor([6.3000, 2.9000, 5.6000, 1.8000]), tensor(2))\n",
            "(tensor([6.5000, 3.0000, 5.8000, 2.2000]), tensor(2))\n",
            "(tensor([7.6000, 3.0000, 6.6000, 2.1000]), tensor(2))\n",
            "(tensor([4.9000, 2.5000, 4.5000, 1.7000]), tensor(2))\n",
            "(tensor([7.3000, 2.9000, 6.3000, 1.8000]), tensor(2))\n",
            "(tensor([6.7000, 2.5000, 5.8000, 1.8000]), tensor(2))\n",
            "(tensor([7.2000, 3.6000, 6.1000, 2.5000]), tensor(2))\n",
            "(tensor([6.5000, 3.2000, 5.1000, 2.0000]), tensor(2))\n",
            "(tensor([6.4000, 2.7000, 5.3000, 1.9000]), tensor(2))\n",
            "(tensor([6.8000, 3.0000, 5.5000, 2.1000]), tensor(2))\n",
            "(tensor([5.7000, 2.5000, 5.0000, 2.0000]), tensor(2))\n",
            "(tensor([5.8000, 2.8000, 5.1000, 2.4000]), tensor(2))\n",
            "(tensor([6.4000, 3.2000, 5.3000, 2.3000]), tensor(2))\n",
            "(tensor([6.5000, 3.0000, 5.5000, 1.8000]), tensor(2))\n",
            "(tensor([7.7000, 3.8000, 6.7000, 2.2000]), tensor(2))\n",
            "(tensor([7.7000, 2.6000, 6.9000, 2.3000]), tensor(2))\n",
            "(tensor([6.0000, 2.2000, 5.0000, 1.5000]), tensor(2))\n",
            "(tensor([6.9000, 3.2000, 5.7000, 2.3000]), tensor(2))\n",
            "(tensor([5.6000, 2.8000, 4.9000, 2.0000]), tensor(2))\n",
            "(tensor([7.7000, 2.8000, 6.7000, 2.0000]), tensor(2))\n",
            "(tensor([6.3000, 2.7000, 4.9000, 1.8000]), tensor(2))\n",
            "(tensor([6.7000, 3.3000, 5.7000, 2.1000]), tensor(2))\n",
            "(tensor([7.2000, 3.2000, 6.0000, 1.8000]), tensor(2))\n",
            "(tensor([6.2000, 2.8000, 4.8000, 1.8000]), tensor(2))\n",
            "(tensor([6.1000, 3.0000, 4.9000, 1.8000]), tensor(2))\n",
            "(tensor([6.4000, 2.8000, 5.6000, 2.1000]), tensor(2))\n",
            "(tensor([7.2000, 3.0000, 5.8000, 1.6000]), tensor(2))\n",
            "(tensor([7.4000, 2.8000, 6.1000, 1.9000]), tensor(2))\n",
            "(tensor([7.9000, 3.8000, 6.4000, 2.0000]), tensor(2))\n",
            "(tensor([6.4000, 2.8000, 5.6000, 2.2000]), tensor(2))\n",
            "(tensor([6.3000, 2.8000, 5.1000, 1.5000]), tensor(2))\n",
            "(tensor([6.1000, 2.6000, 5.6000, 1.4000]), tensor(2))\n",
            "(tensor([7.7000, 3.0000, 6.1000, 2.3000]), tensor(2))\n",
            "(tensor([6.3000, 3.4000, 5.6000, 2.4000]), tensor(2))\n",
            "(tensor([6.4000, 3.1000, 5.5000, 1.8000]), tensor(2))\n",
            "(tensor([6.0000, 3.0000, 4.8000, 1.8000]), tensor(2))\n",
            "(tensor([6.9000, 3.1000, 5.4000, 2.1000]), tensor(2))\n",
            "(tensor([6.7000, 3.1000, 5.6000, 2.4000]), tensor(2))\n",
            "(tensor([6.9000, 3.1000, 5.1000, 2.3000]), tensor(2))\n",
            "(tensor([5.8000, 2.7000, 5.1000, 1.9000]), tensor(2))\n",
            "(tensor([6.8000, 3.2000, 5.9000, 2.3000]), tensor(2))\n",
            "(tensor([6.7000, 3.3000, 5.7000, 2.5000]), tensor(2))\n",
            "(tensor([6.7000, 3.0000, 5.2000, 2.3000]), tensor(2))\n",
            "(tensor([6.3000, 2.5000, 5.0000, 1.9000]), tensor(2))\n",
            "(tensor([6.5000, 3.0000, 5.2000, 2.0000]), tensor(2))\n",
            "(tensor([6.2000, 3.4000, 5.4000, 2.3000]), tensor(2))\n",
            "(tensor([5.9000, 3.0000, 5.1000, 1.8000]), tensor(2))\n"
          ],
          "name": "stdout"
        }
      ]
    },
    {
      "cell_type": "code",
      "metadata": {
        "id": "ucwJ3CtXB2Dn",
        "colab_type": "code",
        "colab": {}
      },
      "source": [
        "# Shuffling the data and producing batch of the data\n",
        "iris_loader = DataLoader(iris, batch_size = 10, shuffle = True)"
      ],
      "execution_count": 28,
      "outputs": []
    },
    {
      "cell_type": "code",
      "metadata": {
        "id": "maTbnLYuB2Dp",
        "colab_type": "code",
        "colab": {
          "base_uri": "https://localhost:8080/",
          "height": 1000
        },
        "outputId": "78ca97f9-0335-4a76-ef24-7d327017f26f"
      },
      "source": [
        "for i_batch, sample_batch in enumerate(iris_loader):\n",
        "    print(i_batch, sample_batch)"
      ],
      "execution_count": 29,
      "outputs": [
        {
          "output_type": "stream",
          "text": [
            "0 [tensor([[6.7000, 3.3000, 5.7000, 2.1000],\n",
            "        [5.1000, 3.8000, 1.5000, 0.3000],\n",
            "        [6.3000, 2.5000, 4.9000, 1.5000],\n",
            "        [6.0000, 2.2000, 4.0000, 1.0000],\n",
            "        [5.0000, 3.4000, 1.5000, 0.2000],\n",
            "        [6.3000, 3.3000, 4.7000, 1.6000],\n",
            "        [5.5000, 2.5000, 4.0000, 1.3000],\n",
            "        [5.5000, 2.4000, 3.8000, 1.1000],\n",
            "        [4.4000, 3.2000, 1.3000, 0.2000],\n",
            "        [5.5000, 2.3000, 4.0000, 1.3000]]), tensor([2, 0, 1, 1, 0, 1, 1, 1, 0, 1])]\n",
            "1 [tensor([[5.7000, 2.5000, 5.0000, 2.0000],\n",
            "        [6.4000, 3.2000, 5.3000, 2.3000],\n",
            "        [5.3000, 3.7000, 1.5000, 0.2000],\n",
            "        [5.2000, 3.4000, 1.4000, 0.2000],\n",
            "        [6.2000, 2.9000, 4.3000, 1.3000],\n",
            "        [5.6000, 3.0000, 4.5000, 1.5000],\n",
            "        [7.3000, 2.9000, 6.3000, 1.8000],\n",
            "        [5.0000, 3.2000, 1.2000, 0.2000],\n",
            "        [5.9000, 3.0000, 5.1000, 1.8000],\n",
            "        [4.6000, 3.2000, 1.4000, 0.2000]]), tensor([2, 2, 0, 0, 1, 1, 2, 0, 2, 0])]\n",
            "2 [tensor([[7.7000, 3.8000, 6.7000, 2.2000],\n",
            "        [6.8000, 3.0000, 5.5000, 2.1000],\n",
            "        [6.3000, 2.9000, 5.6000, 1.8000],\n",
            "        [4.7000, 3.2000, 1.6000, 0.2000],\n",
            "        [7.7000, 2.6000, 6.9000, 2.3000],\n",
            "        [6.2000, 3.4000, 5.4000, 2.3000],\n",
            "        [5.8000, 2.6000, 4.0000, 1.2000],\n",
            "        [4.7000, 3.2000, 1.3000, 0.2000],\n",
            "        [6.3000, 3.4000, 5.6000, 2.4000],\n",
            "        [5.9000, 3.0000, 4.2000, 1.5000]]), tensor([2, 2, 2, 0, 2, 2, 1, 0, 2, 1])]\n",
            "3 [tensor([[5.0000, 3.3000, 1.4000, 0.2000],\n",
            "        [5.1000, 3.8000, 1.6000, 0.2000],\n",
            "        [6.3000, 2.8000, 5.1000, 1.5000],\n",
            "        [5.0000, 3.0000, 1.6000, 0.2000],\n",
            "        [5.1000, 2.5000, 3.0000, 1.1000],\n",
            "        [5.8000, 2.7000, 5.1000, 1.9000],\n",
            "        [6.4000, 3.1000, 5.5000, 1.8000],\n",
            "        [5.4000, 3.0000, 4.5000, 1.5000],\n",
            "        [4.3000, 3.0000, 1.1000, 0.1000],\n",
            "        [5.1000, 3.5000, 1.4000, 0.3000]]), tensor([0, 0, 2, 0, 1, 2, 2, 1, 0, 0])]\n",
            "4 [tensor([[7.6000, 3.0000, 6.6000, 2.1000],\n",
            "        [6.7000, 3.1000, 5.6000, 2.4000],\n",
            "        [4.8000, 3.0000, 1.4000, 0.3000],\n",
            "        [6.9000, 3.1000, 5.1000, 2.3000],\n",
            "        [6.3000, 3.3000, 6.0000, 2.5000],\n",
            "        [5.0000, 2.0000, 3.5000, 1.0000],\n",
            "        [4.8000, 3.4000, 1.6000, 0.2000],\n",
            "        [6.3000, 2.5000, 5.0000, 1.9000],\n",
            "        [5.7000, 3.8000, 1.7000, 0.3000],\n",
            "        [4.5000, 2.3000, 1.3000, 0.3000]]), tensor([2, 2, 0, 2, 2, 1, 0, 2, 0, 0])]\n",
            "5 [tensor([[7.2000, 3.2000, 6.0000, 1.8000],\n",
            "        [6.7000, 3.0000, 5.0000, 1.7000],\n",
            "        [5.2000, 4.1000, 1.5000, 0.1000],\n",
            "        [5.6000, 2.7000, 4.2000, 1.3000],\n",
            "        [6.8000, 3.2000, 5.9000, 2.3000],\n",
            "        [6.9000, 3.1000, 5.4000, 2.1000],\n",
            "        [4.8000, 3.0000, 1.4000, 0.1000],\n",
            "        [5.5000, 2.4000, 3.7000, 1.0000],\n",
            "        [7.1000, 3.0000, 5.9000, 2.1000],\n",
            "        [5.2000, 2.7000, 3.9000, 1.4000]]), tensor([2, 1, 0, 1, 2, 2, 0, 1, 2, 1])]\n",
            "6 [tensor([[5.7000, 2.8000, 4.5000, 1.3000],\n",
            "        [4.8000, 3.1000, 1.6000, 0.2000],\n",
            "        [7.4000, 2.8000, 6.1000, 1.9000],\n",
            "        [6.9000, 3.1000, 4.9000, 1.5000],\n",
            "        [6.5000, 3.2000, 5.1000, 2.0000],\n",
            "        [4.6000, 3.1000, 1.5000, 0.2000],\n",
            "        [6.0000, 3.0000, 4.8000, 1.8000],\n",
            "        [5.4000, 3.7000, 1.5000, 0.2000],\n",
            "        [5.8000, 2.7000, 4.1000, 1.0000],\n",
            "        [6.1000, 2.8000, 4.0000, 1.3000]]), tensor([1, 0, 2, 1, 2, 0, 2, 0, 1, 1])]\n",
            "7 [tensor([[5.7000, 2.8000, 4.1000, 1.3000],\n",
            "        [6.5000, 3.0000, 5.2000, 2.0000],\n",
            "        [6.5000, 3.0000, 5.8000, 2.2000],\n",
            "        [7.7000, 2.8000, 6.7000, 2.0000],\n",
            "        [6.2000, 2.2000, 4.5000, 1.5000],\n",
            "        [6.9000, 3.2000, 5.7000, 2.3000],\n",
            "        [5.7000, 3.0000, 4.2000, 1.2000],\n",
            "        [6.4000, 3.2000, 4.5000, 1.5000],\n",
            "        [6.4000, 2.9000, 4.3000, 1.3000],\n",
            "        [5.7000, 2.9000, 4.2000, 1.3000]]), tensor([1, 2, 2, 2, 1, 2, 1, 1, 1, 1])]\n",
            "8 [tensor([[6.0000, 2.7000, 5.1000, 1.6000],\n",
            "        [4.9000, 3.1000, 1.5000, 0.1000],\n",
            "        [5.0000, 3.4000, 1.6000, 0.4000],\n",
            "        [5.0000, 2.3000, 3.3000, 1.0000],\n",
            "        [5.1000, 3.4000, 1.5000, 0.2000],\n",
            "        [6.7000, 3.1000, 4.4000, 1.4000],\n",
            "        [7.7000, 3.0000, 6.1000, 2.3000],\n",
            "        [4.9000, 3.1000, 1.5000, 0.1000],\n",
            "        [5.2000, 3.5000, 1.5000, 0.2000],\n",
            "        [5.4000, 3.9000, 1.7000, 0.4000]]), tensor([1, 0, 0, 1, 0, 1, 2, 0, 0, 0])]\n",
            "9 [tensor([[6.4000, 2.8000, 5.6000, 2.2000],\n",
            "        [4.4000, 2.9000, 1.4000, 0.2000],\n",
            "        [5.1000, 3.8000, 1.9000, 0.4000],\n",
            "        [6.7000, 3.1000, 4.7000, 1.5000],\n",
            "        [6.1000, 2.9000, 4.7000, 1.4000],\n",
            "        [6.1000, 2.6000, 5.6000, 1.4000],\n",
            "        [6.4000, 2.7000, 5.3000, 1.9000],\n",
            "        [5.8000, 2.7000, 5.1000, 1.9000],\n",
            "        [5.0000, 3.5000, 1.3000, 0.3000],\n",
            "        [4.9000, 3.0000, 1.4000, 0.2000]]), tensor([2, 0, 0, 1, 1, 2, 2, 2, 0, 0])]\n",
            "10 [tensor([[5.6000, 3.0000, 4.1000, 1.3000],\n",
            "        [5.5000, 2.6000, 4.4000, 1.2000],\n",
            "        [5.7000, 2.6000, 3.5000, 1.0000],\n",
            "        [6.1000, 3.0000, 4.6000, 1.4000],\n",
            "        [5.6000, 2.9000, 3.6000, 1.3000],\n",
            "        [4.8000, 3.4000, 1.9000, 0.2000],\n",
            "        [5.5000, 3.5000, 1.3000, 0.2000],\n",
            "        [6.7000, 3.0000, 5.2000, 2.3000],\n",
            "        [6.1000, 2.8000, 4.7000, 1.2000],\n",
            "        [6.0000, 2.2000, 5.0000, 1.5000]]), tensor([1, 1, 1, 1, 1, 0, 0, 2, 1, 2])]\n",
            "11 [tensor([[5.7000, 4.4000, 1.5000, 0.4000],\n",
            "        [4.6000, 3.6000, 1.0000, 0.2000],\n",
            "        [6.0000, 2.9000, 4.5000, 1.5000],\n",
            "        [6.8000, 2.8000, 4.8000, 1.4000],\n",
            "        [5.1000, 3.7000, 1.5000, 0.4000],\n",
            "        [6.7000, 3.3000, 5.7000, 2.5000],\n",
            "        [6.6000, 3.0000, 4.4000, 1.4000],\n",
            "        [6.1000, 3.0000, 4.9000, 1.8000],\n",
            "        [6.7000, 2.5000, 5.8000, 1.8000],\n",
            "        [5.9000, 3.2000, 4.8000, 1.8000]]), tensor([0, 0, 1, 1, 0, 2, 1, 2, 2, 1])]\n",
            "12 [tensor([[5.8000, 4.0000, 1.2000, 0.2000],\n",
            "        [7.0000, 3.2000, 4.7000, 1.4000],\n",
            "        [5.8000, 2.7000, 3.9000, 1.2000],\n",
            "        [6.2000, 2.8000, 4.8000, 1.8000],\n",
            "        [5.8000, 2.8000, 5.1000, 2.4000],\n",
            "        [4.6000, 3.4000, 1.4000, 0.3000],\n",
            "        [6.3000, 2.7000, 4.9000, 1.8000],\n",
            "        [5.0000, 3.6000, 1.4000, 0.2000],\n",
            "        [6.6000, 2.9000, 4.6000, 1.3000],\n",
            "        [5.6000, 2.8000, 4.9000, 2.0000]]), tensor([0, 1, 1, 2, 2, 0, 2, 0, 1, 2])]\n",
            "13 [tensor([[4.9000, 2.5000, 4.5000, 1.7000],\n",
            "        [7.2000, 3.0000, 5.8000, 1.6000],\n",
            "        [6.3000, 2.3000, 4.4000, 1.3000],\n",
            "        [5.6000, 2.5000, 3.9000, 1.1000],\n",
            "        [6.5000, 3.0000, 5.5000, 1.8000],\n",
            "        [4.9000, 3.1000, 1.5000, 0.1000],\n",
            "        [5.5000, 4.2000, 1.4000, 0.2000],\n",
            "        [5.4000, 3.4000, 1.7000, 0.2000],\n",
            "        [7.2000, 3.6000, 6.1000, 2.5000],\n",
            "        [7.9000, 3.8000, 6.4000, 2.0000]]), tensor([2, 2, 1, 1, 2, 0, 0, 0, 2, 2])]\n",
            "14 [tensor([[5.4000, 3.9000, 1.3000, 0.4000],\n",
            "        [4.4000, 3.0000, 1.3000, 0.2000],\n",
            "        [5.4000, 3.4000, 1.5000, 0.4000],\n",
            "        [5.0000, 3.5000, 1.6000, 0.6000],\n",
            "        [5.1000, 3.5000, 1.4000, 0.2000],\n",
            "        [6.5000, 2.8000, 4.6000, 1.5000],\n",
            "        [5.1000, 3.3000, 1.7000, 0.5000],\n",
            "        [4.9000, 2.4000, 3.3000, 1.0000],\n",
            "        [6.0000, 3.4000, 4.5000, 1.6000],\n",
            "        [6.4000, 2.8000, 5.6000, 2.1000]]), tensor([0, 0, 0, 0, 0, 1, 0, 1, 1, 2])]\n"
          ],
          "name": "stdout"
        }
      ]
    },
    {
      "cell_type": "code",
      "metadata": {
        "id": "KxF6cmFzB2Dr",
        "colab_type": "code",
        "colab": {
          "base_uri": "https://localhost:8080/",
          "height": 1000
        },
        "outputId": "3e50aa4f-b55d-450c-d318-7921576fad2a"
      },
      "source": [
        "for batch in (iris_loader):\n",
        "    print(batch)"
      ],
      "execution_count": 30,
      "outputs": [
        {
          "output_type": "stream",
          "text": [
            "[tensor([[6.2000, 2.9000, 4.3000, 1.3000],\n",
            "        [5.1000, 3.7000, 1.5000, 0.4000],\n",
            "        [5.0000, 3.4000, 1.6000, 0.4000],\n",
            "        [7.2000, 3.0000, 5.8000, 1.6000],\n",
            "        [5.6000, 2.5000, 3.9000, 1.1000],\n",
            "        [6.3000, 3.3000, 4.7000, 1.6000],\n",
            "        [5.6000, 2.9000, 3.6000, 1.3000],\n",
            "        [6.4000, 2.8000, 5.6000, 2.2000],\n",
            "        [5.5000, 2.4000, 3.7000, 1.0000],\n",
            "        [5.0000, 3.5000, 1.6000, 0.6000]]), tensor([1, 0, 0, 2, 1, 1, 1, 2, 1, 0])]\n",
            "[tensor([[6.4000, 2.9000, 4.3000, 1.3000],\n",
            "        [6.1000, 2.8000, 4.7000, 1.2000],\n",
            "        [5.4000, 3.0000, 4.5000, 1.5000],\n",
            "        [6.9000, 3.1000, 4.9000, 1.5000],\n",
            "        [6.4000, 3.2000, 4.5000, 1.5000],\n",
            "        [6.8000, 2.8000, 4.8000, 1.4000],\n",
            "        [4.8000, 3.4000, 1.9000, 0.2000],\n",
            "        [4.8000, 3.4000, 1.6000, 0.2000],\n",
            "        [6.2000, 2.2000, 4.5000, 1.5000],\n",
            "        [6.9000, 3.1000, 5.1000, 2.3000]]), tensor([1, 1, 1, 1, 1, 1, 0, 0, 1, 2])]\n",
            "[tensor([[5.7000, 2.6000, 3.5000, 1.0000],\n",
            "        [5.6000, 3.0000, 4.1000, 1.3000],\n",
            "        [6.4000, 3.1000, 5.5000, 1.8000],\n",
            "        [6.1000, 2.8000, 4.0000, 1.3000],\n",
            "        [5.1000, 2.5000, 3.0000, 1.1000],\n",
            "        [5.1000, 3.8000, 1.5000, 0.3000],\n",
            "        [5.7000, 3.8000, 1.7000, 0.3000],\n",
            "        [5.5000, 2.6000, 4.4000, 1.2000],\n",
            "        [7.9000, 3.8000, 6.4000, 2.0000],\n",
            "        [6.3000, 2.3000, 4.4000, 1.3000]]), tensor([1, 1, 2, 1, 1, 0, 0, 1, 2, 1])]\n",
            "[tensor([[4.6000, 3.1000, 1.5000, 0.2000],\n",
            "        [6.7000, 3.1000, 4.4000, 1.4000],\n",
            "        [6.0000, 3.4000, 4.5000, 1.6000],\n",
            "        [4.9000, 2.5000, 4.5000, 1.7000],\n",
            "        [5.1000, 3.3000, 1.7000, 0.5000],\n",
            "        [7.7000, 2.6000, 6.9000, 2.3000],\n",
            "        [4.4000, 3.2000, 1.3000, 0.2000],\n",
            "        [6.0000, 3.0000, 4.8000, 1.8000],\n",
            "        [4.8000, 3.1000, 1.6000, 0.2000],\n",
            "        [5.7000, 2.9000, 4.2000, 1.3000]]), tensor([0, 1, 1, 2, 0, 2, 0, 2, 0, 1])]\n",
            "[tensor([[6.3000, 2.5000, 4.9000, 1.5000],\n",
            "        [7.2000, 3.2000, 6.0000, 1.8000],\n",
            "        [5.6000, 2.8000, 4.9000, 2.0000],\n",
            "        [6.4000, 2.7000, 5.3000, 1.9000],\n",
            "        [5.4000, 3.4000, 1.5000, 0.4000],\n",
            "        [5.4000, 3.9000, 1.7000, 0.4000],\n",
            "        [6.0000, 2.2000, 4.0000, 1.0000],\n",
            "        [4.9000, 3.1000, 1.5000, 0.1000],\n",
            "        [5.1000, 3.8000, 1.6000, 0.2000],\n",
            "        [5.0000, 3.5000, 1.3000, 0.3000]]), tensor([1, 2, 2, 2, 0, 0, 1, 0, 0, 0])]\n",
            "[tensor([[6.1000, 2.6000, 5.6000, 1.4000],\n",
            "        [7.7000, 3.0000, 6.1000, 2.3000],\n",
            "        [6.3000, 3.3000, 6.0000, 2.5000],\n",
            "        [7.3000, 2.9000, 6.3000, 1.8000],\n",
            "        [5.8000, 2.7000, 4.1000, 1.0000],\n",
            "        [5.7000, 2.8000, 4.1000, 1.3000],\n",
            "        [5.5000, 2.3000, 4.0000, 1.3000],\n",
            "        [6.8000, 3.0000, 5.5000, 2.1000],\n",
            "        [6.5000, 3.0000, 5.8000, 2.2000],\n",
            "        [6.1000, 3.0000, 4.9000, 1.8000]]), tensor([2, 2, 2, 2, 1, 1, 1, 2, 2, 2])]\n",
            "[tensor([[5.5000, 3.5000, 1.3000, 0.2000],\n",
            "        [4.6000, 3.6000, 1.0000, 0.2000],\n",
            "        [5.2000, 2.7000, 3.9000, 1.4000],\n",
            "        [6.9000, 3.1000, 5.4000, 2.1000],\n",
            "        [6.0000, 2.2000, 5.0000, 1.5000],\n",
            "        [4.8000, 3.0000, 1.4000, 0.1000],\n",
            "        [6.3000, 3.4000, 5.6000, 2.4000],\n",
            "        [6.7000, 3.1000, 4.7000, 1.5000],\n",
            "        [5.0000, 3.3000, 1.4000, 0.2000],\n",
            "        [4.6000, 3.2000, 1.4000, 0.2000]]), tensor([0, 0, 1, 2, 2, 0, 2, 1, 0, 0])]\n",
            "[tensor([[4.5000, 2.3000, 1.3000, 0.3000],\n",
            "        [5.7000, 2.8000, 4.5000, 1.3000],\n",
            "        [6.3000, 2.9000, 5.6000, 1.8000],\n",
            "        [6.5000, 2.8000, 4.6000, 1.5000],\n",
            "        [5.1000, 3.8000, 1.9000, 0.4000],\n",
            "        [6.7000, 2.5000, 5.8000, 1.8000],\n",
            "        [5.7000, 4.4000, 1.5000, 0.4000],\n",
            "        [5.0000, 3.6000, 1.4000, 0.2000],\n",
            "        [5.9000, 3.0000, 4.2000, 1.5000],\n",
            "        [6.5000, 3.0000, 5.5000, 1.8000]]), tensor([0, 1, 2, 1, 0, 2, 0, 0, 1, 2])]\n",
            "[tensor([[6.4000, 2.8000, 5.6000, 2.1000],\n",
            "        [5.2000, 3.5000, 1.5000, 0.2000],\n",
            "        [6.7000, 3.3000, 5.7000, 2.1000],\n",
            "        [6.6000, 2.9000, 4.6000, 1.3000],\n",
            "        [4.9000, 3.1000, 1.5000, 0.1000],\n",
            "        [6.7000, 3.1000, 5.6000, 2.4000],\n",
            "        [5.8000, 2.7000, 5.1000, 1.9000],\n",
            "        [5.7000, 2.5000, 5.0000, 2.0000],\n",
            "        [6.2000, 2.8000, 4.8000, 1.8000],\n",
            "        [4.7000, 3.2000, 1.3000, 0.2000]]), tensor([2, 0, 2, 1, 0, 2, 2, 2, 2, 0])]\n",
            "[tensor([[7.0000, 3.2000, 4.7000, 1.4000],\n",
            "        [7.6000, 3.0000, 6.6000, 2.1000],\n",
            "        [5.7000, 3.0000, 4.2000, 1.2000],\n",
            "        [5.5000, 4.2000, 1.4000, 0.2000],\n",
            "        [5.4000, 3.9000, 1.3000, 0.4000],\n",
            "        [5.3000, 3.7000, 1.5000, 0.2000],\n",
            "        [5.1000, 3.4000, 1.5000, 0.2000],\n",
            "        [5.0000, 3.4000, 1.5000, 0.2000],\n",
            "        [6.7000, 3.3000, 5.7000, 2.5000],\n",
            "        [4.3000, 3.0000, 1.1000, 0.1000]]), tensor([1, 2, 1, 0, 0, 0, 0, 0, 2, 0])]\n",
            "[tensor([[6.1000, 2.9000, 4.7000, 1.4000],\n",
            "        [5.0000, 3.0000, 1.6000, 0.2000],\n",
            "        [7.1000, 3.0000, 5.9000, 2.1000],\n",
            "        [5.9000, 3.2000, 4.8000, 1.8000],\n",
            "        [5.8000, 2.6000, 4.0000, 1.2000],\n",
            "        [5.5000, 2.5000, 4.0000, 1.3000],\n",
            "        [6.0000, 2.7000, 5.1000, 1.6000],\n",
            "        [5.6000, 2.7000, 4.2000, 1.3000],\n",
            "        [5.1000, 3.5000, 1.4000, 0.3000],\n",
            "        [6.1000, 3.0000, 4.6000, 1.4000]]), tensor([1, 0, 2, 1, 1, 1, 1, 1, 0, 1])]\n",
            "[tensor([[4.8000, 3.0000, 1.4000, 0.3000],\n",
            "        [5.6000, 3.0000, 4.5000, 1.5000],\n",
            "        [6.3000, 2.7000, 4.9000, 1.8000],\n",
            "        [6.7000, 3.0000, 5.2000, 2.3000],\n",
            "        [6.3000, 2.5000, 5.0000, 1.9000],\n",
            "        [6.7000, 3.0000, 5.0000, 1.7000],\n",
            "        [5.8000, 4.0000, 1.2000, 0.2000],\n",
            "        [5.0000, 3.2000, 1.2000, 0.2000],\n",
            "        [5.2000, 3.4000, 1.4000, 0.2000],\n",
            "        [6.4000, 3.2000, 5.3000, 2.3000]]), tensor([0, 1, 2, 2, 2, 1, 0, 0, 0, 2])]\n",
            "[tensor([[5.1000, 3.5000, 1.4000, 0.2000],\n",
            "        [7.2000, 3.6000, 6.1000, 2.5000],\n",
            "        [6.5000, 3.0000, 5.2000, 2.0000],\n",
            "        [5.4000, 3.7000, 1.5000, 0.2000],\n",
            "        [6.9000, 3.2000, 5.7000, 2.3000],\n",
            "        [4.4000, 3.0000, 1.3000, 0.2000],\n",
            "        [5.8000, 2.7000, 3.9000, 1.2000],\n",
            "        [6.3000, 2.8000, 5.1000, 1.5000],\n",
            "        [4.9000, 3.1000, 1.5000, 0.1000],\n",
            "        [7.7000, 2.8000, 6.7000, 2.0000]]), tensor([0, 2, 2, 0, 2, 0, 1, 2, 0, 2])]\n",
            "[tensor([[7.7000, 3.8000, 6.7000, 2.2000],\n",
            "        [5.2000, 4.1000, 1.5000, 0.1000],\n",
            "        [7.4000, 2.8000, 6.1000, 1.9000],\n",
            "        [4.4000, 2.9000, 1.4000, 0.2000],\n",
            "        [5.8000, 2.7000, 5.1000, 1.9000],\n",
            "        [4.9000, 3.0000, 1.4000, 0.2000],\n",
            "        [6.5000, 3.2000, 5.1000, 2.0000],\n",
            "        [5.4000, 3.4000, 1.7000, 0.2000],\n",
            "        [5.8000, 2.8000, 5.1000, 2.4000],\n",
            "        [4.9000, 2.4000, 3.3000, 1.0000]]), tensor([2, 0, 2, 0, 2, 0, 2, 0, 2, 1])]\n",
            "[tensor([[5.0000, 2.3000, 3.3000, 1.0000],\n",
            "        [4.6000, 3.4000, 1.4000, 0.3000],\n",
            "        [6.2000, 3.4000, 5.4000, 2.3000],\n",
            "        [6.8000, 3.2000, 5.9000, 2.3000],\n",
            "        [4.7000, 3.2000, 1.6000, 0.2000],\n",
            "        [5.5000, 2.4000, 3.8000, 1.1000],\n",
            "        [5.0000, 2.0000, 3.5000, 1.0000],\n",
            "        [6.0000, 2.9000, 4.5000, 1.5000],\n",
            "        [5.9000, 3.0000, 5.1000, 1.8000],\n",
            "        [6.6000, 3.0000, 4.4000, 1.4000]]), tensor([1, 0, 2, 2, 0, 1, 1, 1, 2, 1])]\n"
          ],
          "name": "stdout"
        }
      ]
    },
    {
      "cell_type": "code",
      "metadata": {
        "id": "t3gRng7PB2Dt",
        "colab_type": "code",
        "colab": {}
      },
      "source": [
        ""
      ],
      "execution_count": 30,
      "outputs": []
    }
  ]
}